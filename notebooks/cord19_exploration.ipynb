{
 "cells": [
  {
   "cell_type": "code",
   "execution_count": null,
   "id": "db1ce7ad",
   "metadata": {},
   "outputs": [],
   "source": []
  },
  {
   "cell_type": "markdown",
   "id": "1f9ce443",
   "metadata": {},
   "source": [
    "# 1️⃣ Data Loading & Basic Exploration"
   ]
  },
  {
   "cell_type": "code",
   "execution_count": null,
   "id": "40fcf9cd",
   "metadata": {},
   "outputs": [],
   "source": [
    "import pandas as pd\n",
    "import matplotlib.pyplot as plt\n",
    "import seaborn as sns\n",
    "\n",
    "# Load dataset (adjust path if needed)\n",
    "df = pd.read_csv('../data/metadata.csv', low_memory=False)\n",
    "\n",
    "# Quick overview\n",
    "print(\"Shape:\", df.shape)\n",
    "print(df.info())\n",
    "print(df.isnull().sum().sort_values(ascending=False).head(10))\n",
    "df.head()\n"
   ]
  },
  {
   "cell_type": "markdown",
   "id": "4d1b6861",
   "metadata": {},
   "source": [
    "# 2️⃣ Data Cleaning & Preparation"
   ]
  },
  {
   "cell_type": "code",
   "execution_count": null,
   "id": "11dfe965",
   "metadata": {},
   "outputs": [],
   "source": [
    "# Convert publish_time to datetime\n",
    "df['publish_time'] = pd.to_datetime(df['publish_time'], errors='coerce')\n",
    "df['year'] = df['publish_time'].dt.year\n",
    "\n",
    "# Example of filling/removing\n",
    "# Drop rows without title or year\n",
    "df_clean = df.dropna(subset=['title','year'])\n",
    "\n",
    "# Optional: abstract word count\n",
    "df_clean['abstract_word_count'] = df_clean['abstract'].fillna('').apply(lambda x: len(x.split()))\n"
   ]
  },
  {
   "cell_type": "markdown",
   "id": "866dc35a",
   "metadata": {},
   "source": [
    "3️⃣ Data Analysis & Visualization"
   ]
  },
  {
   "cell_type": "markdown",
   "id": "15fa78df",
   "metadata": {},
   "source": [
    "## a) Papers by Year"
   ]
  },
  {
   "cell_type": "code",
   "execution_count": null,
   "id": "816500a9",
   "metadata": {},
   "outputs": [],
   "source": [
    "year_counts = df_clean['year'].value_counts().sort_index()\n",
    "\n",
    "plt.figure(figsize=(8,5))\n",
    "sns.barplot(x=year_counts.index, y=year_counts.values, color='skyblue')\n",
    "plt.title('Publications by Year')\n",
    "plt.xlabel('Year')\n",
    "plt.ylabel('Number of Papers')\n",
    "plt.xticks(rotation=45)\n",
    "plt.tight_layout()\n",
    "plt.show()\n"
   ]
  },
  {
   "cell_type": "markdown",
   "id": "ebb9d042",
   "metadata": {},
   "source": [
    "## b) Top Journals"
   ]
  },
  {
   "cell_type": "code",
   "execution_count": null,
   "id": "2e419076",
   "metadata": {},
   "outputs": [],
   "source": [
    "top_journals = (df_clean['journal']\n",
    "                .value_counts()\n",
    "                .head(10))\n",
    "\n",
    "plt.figure(figsize=(8,5))\n",
    "sns.barplot(y=top_journals.index, x=top_journals.values, color='orange')\n",
    "plt.title('Top 10 Journals Publishing COVID-19 Research')\n",
    "plt.xlabel('Number of Papers')\n",
    "plt.tight_layout()\n",
    "plt.show()\n"
   ]
  },
  {
   "cell_type": "markdown",
   "id": "1bb99031",
   "metadata": {},
   "source": [
    "## Word cloud of paper titles"
   ]
  },
  {
   "cell_type": "code",
   "execution_count": null,
   "id": "af32a0c7",
   "metadata": {},
   "outputs": [],
   "source": [
    "from wordcloud import WordCloud\n",
    "\n",
    "titles = ' '.join(df_clean['title'].dropna())\n",
    "wc = WordCloud(width=800, height=400, background_color='white').generate(titles)\n",
    "\n",
    "plt.figure(figsize=(12,6))\n",
    "plt.imshow(wc, interpolation='bilinear')\n",
    "plt.axis('off')\n",
    "plt.title('Most Frequent Words in Paper Titles')\n",
    "plt.show()\n"
   ]
  }
 ],
 "metadata": {
  "kernelspec": {
   "display_name": ".venv",
   "language": "python",
   "name": "python3"
  },
  "language_info": {
   "name": "python",
   "version": "3.10.0"
  }
 },
 "nbformat": 4,
 "nbformat_minor": 5
}
